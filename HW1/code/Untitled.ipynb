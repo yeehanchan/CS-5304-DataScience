{
 "cells": [
  {
   "cell_type": "code",
   "execution_count": 2,
   "metadata": {
    "collapsed": false
   },
   "outputs": [],
   "source": [
    "from pyspark import SparkContext\n",
    "from pyspark.ml.feature import OneHotEncoder, StringIndexer\n",
    "\n",
    "from pyspark.sql import SQLContext\n",
    "import matplotlib.pyplot as plt\n",
    "\n",
    "sqlContext = SQLContext(sc)\n",
    "data = sc.textFile('train.txt', 10000)\n",
    "data = data.map(lambda x: x.split('\\t'))\n",
    "\n",
    "train10M, train38M = data.randomSplit([10, 38])\n",
    "train5M, validation2M, test3M = train10M.randomSplit([5,2,3])\n",
    "\n",
    "label = train5M.map(lambda x: x[0])\n",
    "entire_train = train5M.map(lambda x: x[1:])"
   ]
  },
  {
   "cell_type": "code",
   "execution_count": 3,
   "metadata": {
    "collapsed": false
   },
   "outputs": [],
   "source": [
    "df_train = sqlContext.createDataFrame(train5M, ['C'+str(i) for i in range(39)])"
   ]
  },
  {
   "cell_type": "code",
   "execution_count": 4,
   "metadata": {
    "collapsed": false
   },
   "outputs": [],
   "source": [
    "def changeDataType(df):\n",
    "    new = df    \n",
    "    for i in range(13):\n",
    "        new = new.withColumn('C'+str(i), new['C'+str(i)].cast('int'))\n",
    "    return new"
   ]
  },
  {
   "cell_type": "code",
   "execution_count": 5,
   "metadata": {
    "collapsed": true
   },
   "outputs": [],
   "source": [
    "new_df = changeDataType(df_train)"
   ]
  },
  {
   "cell_type": "code",
   "execution_count": 6,
   "metadata": {
    "collapsed": false
   },
   "outputs": [
    {
     "data": {
      "text/plain": [
       "DataFrame[C0: int, C1: int, C2: int, C3: int, C4: int, C5: int, C6: int, C7: int, C8: int, C9: int, C10: int, C11: int, C12: int, C13: string, C14: string, C15: string, C16: string, C17: string, C18: string, C19: string, C20: string, C21: string, C22: string, C23: string, C24: string, C25: string, C26: string, C27: string, C28: string, C29: string, C30: string, C31: string, C32: string, C33: string, C34: string, C35: string, C36: string, C37: string, C38: string, _40: string]"
      ]
     },
     "execution_count": 6,
     "metadata": {},
     "output_type": "execute_result"
    }
   ],
   "source": [
    "new_df"
   ]
  },
  {
   "cell_type": "code",
   "execution_count": 21,
   "metadata": {
    "collapsed": true
   },
   "outputs": [],
   "source": [
    "stringIndexer = StringIndexer(inputCol=\"C13\", outputCol=\"C13Index\")"
   ]
  },
  {
   "cell_type": "code",
   "execution_count": 22,
   "metadata": {
    "collapsed": false
   },
   "outputs": [],
   "source": [
    "cols = [new_df.select('C' + str(i)).rdd.flatMap(lambda x:x) for i in range(13, 39)]"
   ]
  },
  {
   "cell_type": "code",
   "execution_count": 24,
   "metadata": {
    "collapsed": false
   },
   "outputs": [
    {
     "data": {
      "text/plain": [
       "PythonRDD[200] at RDD at PythonRDD.scala:43"
      ]
     },
     "execution_count": 24,
     "metadata": {},
     "output_type": "execute_result"
    }
   ],
   "source": [
    "cols[14]"
   ]
  },
  {
   "cell_type": "code",
   "execution_count": 49,
   "metadata": {
    "collapsed": false
   },
   "outputs": [],
   "source": [
    "col14 = sqlContext.createDataFrame(train5M.map(lambda x: [x[0],x[14]]), ['C'+str(0), 'C'+str(14)])"
   ]
  },
  {
   "cell_type": "code",
   "execution_count": 50,
   "metadata": {
    "collapsed": false
   },
   "outputs": [
    {
     "data": {
      "text/plain": [
       "DataFrame[C0: string, C14: string]"
      ]
     },
     "execution_count": 50,
     "metadata": {},
     "output_type": "execute_result"
    }
   ],
   "source": [
    "col14"
   ]
  },
  {
   "cell_type": "code",
   "execution_count": 52,
   "metadata": {
    "collapsed": false
   },
   "outputs": [],
   "source": [
    "col14_filled = col14.na.replace('', 'unknown')"
   ]
  },
  {
   "cell_type": "code",
   "execution_count": 58,
   "metadata": {
    "collapsed": true
   },
   "outputs": [],
   "source": [
    "stringIndexer = StringIndexer(inputCol=\"C14\", outputCol=\"categoryIndex\")"
   ]
  },
  {
   "cell_type": "code",
   "execution_count": 59,
   "metadata": {
    "collapsed": true
   },
   "outputs": [],
   "source": [
    "model = stringIndexer.fit(col14)"
   ]
  },
  {
   "cell_type": "code",
   "execution_count": 60,
   "metadata": {
    "collapsed": true
   },
   "outputs": [],
   "source": [
    "indexed = model.transform(col14)"
   ]
  },
  {
   "cell_type": "code",
   "execution_count": 61,
   "metadata": {
    "collapsed": true
   },
   "outputs": [],
   "source": [
    "encoder = OneHotEncoder(dropLast=False, inputCol=\"categoryIndex\", outputCol=\"categoryVec\")"
   ]
  },
  {
   "cell_type": "code",
   "execution_count": 62,
   "metadata": {
    "collapsed": false
   },
   "outputs": [],
   "source": [
    "encoded = encoder.transform(indexed)"
   ]
  },
  {
   "cell_type": "code",
   "execution_count": 63,
   "metadata": {
    "collapsed": false
   },
   "outputs": [
    {
     "name": "stdout",
     "output_type": "stream",
     "text": [
      "+---+-----------------+\n",
      "| C0|      categoryVec|\n",
      "+---+-----------------+\n",
      "|  0|(1451,[23],[1.0])|\n",
      "|  0| (1451,[0],[1.0])|\n",
      "|  0| (1451,[0],[1.0])|\n",
      "|  0| (1451,[2],[1.0])|\n",
      "|  1| (1451,[3],[1.0])|\n",
      "|  0| (1451,[0],[1.0])|\n",
      "|  0| (1451,[0],[1.0])|\n",
      "|  0| (1451,[0],[1.0])|\n",
      "|  0|(1451,[30],[1.0])|\n",
      "|  0| (1451,[1],[1.0])|\n",
      "|  0|(1451,[26],[1.0])|\n",
      "|  0| (1451,[2],[1.0])|\n",
      "|  1| (1451,[2],[1.0])|\n",
      "|  0| (1451,[6],[1.0])|\n",
      "|  0| (1451,[2],[1.0])|\n",
      "|  1| (1451,[1],[1.0])|\n",
      "|  0| (1451,[0],[1.0])|\n",
      "|  0| (1451,[1],[1.0])|\n",
      "|  1| (1451,[0],[1.0])|\n",
      "|  0| (1451,[5],[1.0])|\n",
      "+---+-----------------+\n",
      "only showing top 20 rows\n",
      "\n"
     ]
    }
   ],
   "source": [
    "encoded.select(\"C0\", \"categoryVec\").show()"
   ]
  },
  {
   "cell_type": "code",
   "execution_count": 7,
   "metadata": {
    "collapsed": false
   },
   "outputs": [],
   "source": [
    "columns = [i for i in range(13, 39)]\n",
    "cols = [new_df.select('C' + str(i)).rdd.flatMap(lambda x:x) for i in range(13, 39)]\n"
   ]
  },
  {
   "cell_type": "code",
   "execution_count": null,
   "metadata": {
    "collapsed": true
   },
   "outputs": [],
   "source": [
    "new_df = changeDataType(df_train)\n",
    "columns = [i for i in range(13, 39)]\n",
    "cols = [new_df.select('C' + str(i)).rdd.flatMap(lambda x:x) for i in range(13, 39)]\n",
    "for col in columns:\n",
    "    uniques = cols[col].distinct()\n",
    "    keys = uniques.collect()\n",
    "    bins = len(keys)\n",
    "    dic = dict(zip(keys, range(bins)))\n",
    "    convert = cols[col].map(lambda x:dic[x])\n",
    "    hist = convert.histogram(bins)\n",
    "    plt.bar(hist[0][1:], hist[1])\n",
    "    # hist = new.select(col).rdd.flatMap(lambda x: x).histogram(20) \n",
    "    # plt.hist(hist[1], bins=hist[0])\n",
    "    # plt.title(col)\n",
    "    plt.savefig(str(col)+'.jpg')"
   ]
  },
  {
   "cell_type": "code",
   "execution_count": null,
   "metadata": {
    "collapsed": true
   },
   "outputs": [],
   "source": []
  }
 ],
 "metadata": {
  "kernelspec": {
   "display_name": "Python 2",
   "language": "python",
   "name": "python2"
  },
  "language_info": {
   "codemirror_mode": {
    "name": "ipython",
    "version": 2
   },
   "file_extension": ".py",
   "mimetype": "text/x-python",
   "name": "python",
   "nbconvert_exporter": "python",
   "pygments_lexer": "ipython2",
   "version": "2.7.9"
  }
 },
 "nbformat": 4,
 "nbformat_minor": 0
}
