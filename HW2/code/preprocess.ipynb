{
 "cells": [
  {
   "cell_type": "code",
   "execution_count": 1,
   "metadata": {
    "collapsed": false
   },
   "outputs": [
    {
     "name": "stdout",
     "output_type": "stream",
     "text": [
      "Populating the interactive namespace from numpy and matplotlib\n"
     ]
    }
   ],
   "source": [
    "%pylab inline\n",
    "import rlcompleter, readline\n",
    "readline.parse_and_bind('tab: complete')\n",
    "import findspark\n",
    "import os\n",
    "findspark.init()\n",
    "from pyspark import SparkConf, SparkContext\n",
    "from pyspark.sql import SQLContext\n",
    "sc = SparkContext()\n",
    "sqlContext = SQLContext(sc)"
   ]
  },
  {
   "cell_type": "code",
   "execution_count": 35,
   "metadata": {
    "collapsed": true
   },
   "outputs": [],
   "source": [
    "import itertools\n",
    "from pyspark.mllib.recommendation import ALS\n",
    "from pyspark.mllib.evaluation import RegressionMetrics"
   ]
  },
  {
   "cell_type": "code",
   "execution_count": 29,
   "metadata": {
    "collapsed": true
   },
   "outputs": [],
   "source": [
    "def parseRatings(l):\n",
    "    \"\"\"\n",
    "    Parse the Ratings\n",
    "    \"\"\"\n",
    "    return int(l[0]), int(l[1]), float(l[2])\n",
    "\n",
    "\n",
    "\n",
    "\n",
    "def findMovieTitles(ids, movies):\n",
    "    \"\"\"\n",
    "    Find movie title from movie id\n",
    "    \"\"\"\n",
    "    titles = [movies.filter(lambda x: x[0] == i).map(lambda x: x[1]).collect() for i in ids]\n",
    "    return titles\n",
    "\n",
    "\n",
    "\n",
    "\n",
    "def computeRmse(model, data, n):\n",
    "    \"\"\"\n",
    "    Compute RMSE (Root Mean Squared Error).\n",
    "    \"\"\"\n",
    "    predictions = model.predictAll(data.map(lambda x: (x[0], x[1])))\n",
    "    predictionsAndRatings = predictions.map(lambda x: ((x[0], x[1]), x[2])) \\\n",
    "      .join(data.map(lambda x: ((x[0], x[1]), x[2]))) \\\n",
    "      .values()\n",
    "    return sqrt(predictionsAndRatings.map(lambda x: (x[0] - x[1]) ** 2).reduce(add) / float(n))\n",
    "\n",
    "\n",
    "\n",
    "\n",
    "\n",
    "def findBestModel(train, validation, ranks, lambdas, iteration):\n",
    "    \"\"\"\n",
    "    Choose Regularization and number of latent factors \n",
    "    \"\"\"\n",
    "    bestModel = None\n",
    "    bestLambda = -1.0\n",
    "    bestRank = 0\n",
    "    bestRmse = float(\"inf\")\n",
    "    \n",
    "    for rank, lmbda in itertools.product(ranks, lambdas):\n",
    "        model = ALS.train(train, rank, iteration, lmbda)\n",
    "        rmse = computeRmse(model, validation, validation.count())\n",
    "        \n",
    "        print(\"model trained with lambda = \", lmbda, \"rank = \", rank, \"has the rmse = \", rmse)\n",
    "        \n",
    "        if rmse < bestRmse:\n",
    "            bestRmse = rmse\n",
    "            bestModel = model\n",
    "            bestLambda = lmbda\n",
    "            bestRank = rank\n",
    "            \n",
    "            \n",
    "    return bestModel, bestRmse\n",
    "\n",
    "\n",
    "\n",
    "\n",
    "\n",
    "def evaluateOnTest(model, test):\n",
    "    \"\"\"\n",
    "    Evaluate the model on testing set\n",
    "    \"\"\"\n",
    "    rmse = computeRmse(model, test, test.count())\n",
    "    print(\"the RMSE for best trained model on test set is\", rmse)\n",
    "    return rmse\n",
    "\n",
    "\n",
    "\n",
    "\n",
    "\n",
    "def recommendation_engine(model, user_data, movieList):\n",
    "    \"\"\"\n",
    "    Build a recommendation engine \n",
    "    \"\"\"\n",
    "    userid = user_data.first()[0]\n",
    "    watchedMovies = user_data.map(lambda x: x[1])\n",
    "    recommendList = movieList.subtract(watchedMovies) \n",
    "    predictions = model.predictAll(recommendList.map(lambda x : (userid, x))).collect()\n",
    "    recommendations = findMovieTitles(\\\n",
    "                                    [sorted(predictions, key=lambda x: x[2], reverse=True)[i].product for i in range(10)],\\\n",
    "                                    movies)\n",
    "    \n",
    "    print (\"Movies recommended for user:\", userid)\n",
    "    for each in recommendations:\n",
    "        print(each)\n",
    "    \n",
    "    return predictions\n",
    "\n",
    "\n",
    "def subtractGlobalBias(train):\n",
    "    \"\"\"\n",
    "    Remove global bias miu\n",
    "    \"\"\"\n",
    "    \n",
    "    miu = train.map(lambda x: x[2]).mean()\n",
    "    return train.map(lambda x: (x[0], x[1], x[2] - miu)), miu\n",
    "\n",
    "\n",
    "\n",
    "def subtractUserBias(train):\n",
    "    \"\"\"\n",
    "    Remove user specific bias\n",
    "    \"\"\"\n",
    "    bu = train.map(lambda x: (x[0], x[2])).groupByKey()\\\n",
    "                .map(lambda x:(x[0], list(x[1])))\\\n",
    "                .mapValues(lambda x: mean(x))\n",
    "    \n",
    "    subtract = train.map(lambda x: (x[0], (x[1], x[2]))).join(bu).map(lambda x: (x[0], x[1][0][0], x[1][0][1] - x[1][1]))\n",
    "    return subtract, bu\n",
    "\n",
    "\n",
    "def subtractItemBias(train):\n",
    "    \"\"\"\n",
    "    Remove item specific bias\n",
    "    \"\"\"\n",
    "    bi = train.map(lambda x: (x[1], x[2])).groupByKey()\\\n",
    "                .map(lambda x:(x[0], list(x[1])))\\\n",
    "                .mapValues(lambda x: mean(x))\n",
    "            \n",
    "    subtract = train.map(lambda x: (x[1], (x[0], x[2]))).join(bi).map(lambda x: (x[1][0][0], x[0], x[1][0][1] - x[1][1]))\n",
    "    return subtract, bi\n",
    "\n",
    "def subtractBias(data, bias, types):\n",
    "    \"\"\"\n",
    "    Remove bias on given dataset\n",
    "    \"\"\"\n",
    "    "
   ]
  },
  {
   "cell_type": "code",
   "execution_count": 4,
   "metadata": {
    "collapsed": true
   },
   "outputs": [],
   "source": [
    "movies = sc.textFile('../data/ml-10M100K/movies.dat')\\\n",
    "                    .map(lambda x: x.split('::'))\\\n",
    "                    .map(lambda x: [int(x[0]), str(x[1]), str(x[2])])\n",
    "train = sc.textFile('../data/sorted_ratings/train.txt')\\\n",
    "                    .map(lambda x:x.strip('[').strip(']').split(','))\\\n",
    "                    .map(lambda x: parseRatings(x))\n",
    "validation = sc.textFile('../data/sorted_ratings/validation.txt')\\\n",
    "                    .map(lambda x:x.strip('[').strip(']').split(','))\\\n",
    "                    .map(lambda x: parseRatings(x))\n",
    "test = sc.textFile('../data/sorted_ratings/test.txt')\\\n",
    "                    .map(lambda x:x.strip('[').strip(']').split(','))\\\n",
    "                    .map(lambda x: parseRatings(x))"
   ]
  },
  {
   "cell_type": "code",
   "execution_count": 30,
   "metadata": {
    "collapsed": false
   },
   "outputs": [],
   "source": [
    "globalbias_removed = subtractGlobalBias(train)\n",
    "userbias_removed = subtractUserBias(train)\n",
    "itembias_removed = subtractItemBias(train)"
   ]
  },
  {
   "cell_type": "code",
   "execution_count": 37,
   "metadata": {
    "collapsed": false
   },
   "outputs": [],
   "source": [
    "globalbias_removed_model = ALS.train(globalbias_removed, 12, 10, 0.1)\n",
    "userbias_removed_model = ALS.train(userbias_removed, 12, 10, 0.1)\n",
    "itembias_removed_model = ALS.train(itembias_removed, 12, 10, 0.1)"
   ]
  },
  {
   "cell_type": "code",
   "execution_count": 39,
   "metadata": {
    "collapsed": false
   },
   "outputs": [
    {
     "name": "stdout",
     "output_type": "stream",
     "text": [
      "the RMSE for model on  global bias removed dataset is 1.23978714257\n",
      "the RMSE for model on  user bias removed dataset is 1.22889309455\n",
      "the RMSE for model on  item bias removed dataset is 1.24629341324\n"
     ]
    }
   ],
   "source": [
    "print(\"the RMSE for model on  global bias removed dataset is\", \\\n",
    "      computeRmse(globalbias_removed_model, validation, validation.count()))\n",
    "print(\"the RMSE for model on  user bias removed dataset is\", \\\n",
    "      computeRmse(userbias_removed_model, validation, validation.count()))\n",
    "print(\"the RMSE for model on  item bias removed dataset is\", \\\n",
    "      computeRmse(itembias_removed_model, validation, validation.count()))"
   ]
  },
  {
   "cell_type": "code",
   "execution_count": 42,
   "metadata": {
    "collapsed": false
   },
   "outputs": [
    {
     "ename": "NameError",
     "evalue": "name 'unichr' is not defined",
     "output_type": "error",
     "traceback": [
      "\u001b[0;31m---------------------------------------------------------------------------\u001b[0m",
      "\u001b[0;31mNameError\u001b[0m                                 Traceback (most recent call last)",
      "\u001b[0;32m<ipython-input-42-dc9a02a7978b>\u001b[0m in \u001b[0;36m<module>\u001b[0;34m()\u001b[0m\n\u001b[0;32m----> 1\u001b[0;31m \u001b[0munichr\u001b[0m\u001b[0;34m(\u001b[0m\u001b[0;34m\"abcd\"\u001b[0m\u001b[0;34m)\u001b[0m\u001b[0;34m\u001b[0m\u001b[0m\n\u001b[0m",
      "\u001b[0;31mNameError\u001b[0m: name 'unichr' is not defined"
     ]
    }
   ],
   "source": [
    "unichr(\"abcd\")"
   ]
  },
  {
   "cell_type": "code",
   "execution_count": 38,
   "metadata": {
    "collapsed": false
   },
   "outputs": [
    {
     "name": "stdout",
     "output_type": "stream",
     "text": [
      "1\n",
      "2\n"
     ]
    }
   ],
   "source": [
    "print (1)\n",
    "print (2)"
   ]
  },
  {
   "cell_type": "code",
   "execution_count": null,
   "metadata": {
    "collapsed": false
   },
   "outputs": [],
   "source": []
  },
  {
   "cell_type": "code",
   "execution_count": null,
   "metadata": {
    "collapsed": false
   },
   "outputs": [],
   "source": []
  },
  {
   "cell_type": "code",
   "execution_count": null,
   "metadata": {
    "collapsed": false
   },
   "outputs": [],
   "source": []
  },
  {
   "cell_type": "code",
   "execution_count": null,
   "metadata": {
    "collapsed": true
   },
   "outputs": [],
   "source": []
  }
 ],
 "metadata": {
  "kernelspec": {
   "display_name": "Python 3",
   "language": "python",
   "name": "python3"
  },
  "language_info": {
   "codemirror_mode": {
    "name": "ipython",
    "version": 3
   },
   "file_extension": ".py",
   "mimetype": "text/x-python",
   "name": "python",
   "nbconvert_exporter": "python",
   "pygments_lexer": "ipython3",
   "version": "3.5.1"
  }
 },
 "nbformat": 4,
 "nbformat_minor": 0
}
