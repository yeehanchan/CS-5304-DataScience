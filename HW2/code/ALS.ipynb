{
 "cells": [
  {
   "cell_type": "code",
   "execution_count": null,
   "metadata": {
    "collapsed": false
   },
   "outputs": [],
   "source": [
    "%pylab inline\n",
    "import rlcompleter, readline\n",
    "readline.parse_and_bind('tab: complete')\n",
    "import findspark\n",
    "import os\n",
    "findspark.init()\n",
    "from pyspark import SparkConf, SparkContext\n",
    "from pyspark.sql import SQLContext\n",
    "sc = SparkContext()\n",
    "sqlContext = SQLContext(sc)"
   ]
  },
  {
   "cell_type": "code",
   "execution_count": 34,
   "metadata": {
    "collapsed": true
   },
   "outputs": [],
   "source": [
    "import itertools\n",
    "from pyspark.mllib.recommendation import ALS\n",
    "from pyspark.mllib.evaluation import RegressionMetrics\n"
   ]
  },
  {
   "cell_type": "code",
   "execution_count": 138,
   "metadata": {
    "collapsed": false
   },
   "outputs": [],
   "source": [
    "def parseRatings(l):\n",
    "    \"\"\"\n",
    "    Parse the Ratings\n",
    "    \"\"\"\n",
    "    return int(l[0]), int(l[1]), float(l[2])\n",
    "\n",
    "\n",
    "\n",
    "\n",
    "def findMovieTitles(ids, movies):\n",
    "    \"\"\"\n",
    "    Find movie title from movie id\n",
    "    \"\"\"\n",
    "    titles = [movies.filter(lambda x: x[0] == i).map(lambda x: x[1]).collect() for i in ids]\n",
    "    return titles\n",
    "\n",
    "\n",
    "\n",
    "\n",
    "def computeRmse(model, data, n):\n",
    "    \"\"\"\n",
    "    Compute RMSE (Root Mean Squared Error).\n",
    "    \"\"\"\n",
    "    predictions = model.predictAll(data.map(lambda x: (x[0], x[1])))\n",
    "    predictionsAndRatings = predictions.map(lambda x: ((x[0], x[1]), x[2])) \\\n",
    "      .join(data.map(lambda x: ((x[0], x[1]), x[2]))) \\\n",
    "      .values()\n",
    "    return sqrt(predictionsAndRatings.map(lambda x: (x[0] - x[1]) ** 2).reduce(add) / float(n))\n",
    "\n",
    "\n",
    "\n",
    "\n",
    "\n",
    "def findBestModel(train, validation, ranks, lambdas, iteration):\n",
    "    \"\"\"\n",
    "    Choose Regularization and number of latent factors \n",
    "    \"\"\"\n",
    "    bestModel = None\n",
    "    bestLambda = -1.0\n",
    "    bestRank = 0\n",
    "    bestRmse = float(\"inf\")\n",
    "    \n",
    "    for rank, lmbda in itertools.product(ranks, lambdas):\n",
    "        model = ALS.train(train, rank, iteration, lmbda)\n",
    "        rmse = computeRmse(model, validation, validation.count())\n",
    "        \n",
    "        print(\"model trained with lambda = \", lmbda, \"rank = \", rank, \"has the rmse = \", rmse)\n",
    "        \n",
    "        if rmse < bestRmse:\n",
    "            bestRmse = rmse\n",
    "            bestModel = model\n",
    "            bestLambda = lmbda\n",
    "            bestRank = rank\n",
    "            \n",
    "            \n",
    "    return bestModel, bestRmse\n",
    "\n",
    "\n",
    "\n",
    "\n",
    "\n",
    "def evaluateOnTest(model, test):\n",
    "    \"\"\"\n",
    "    Evaluate the model on testing set\n",
    "    \"\"\"\n",
    "    rmse = computeRmse(model, test, test.count())\n",
    "    print(\"the RMSE for best trained model on test set is\", rmse)\n",
    "    return rmse\n",
    "\n",
    "\n",
    "\n",
    "\n",
    "\n",
    "def recommendation_engine(model, user_data, movieList):\n",
    "    \"\"\"\n",
    "    Build a recommendation engine \n",
    "    \"\"\"\n",
    "    userid = user_data.first()[0]\n",
    "    watchedMovies = user_data.map(lambda x: x[1])\n",
    "    recommendList = movieList.subtract(watchedMovies) \n",
    "    predictions = model.predictAll(recommendList.map(lambda x : (userid, x))).collect()\n",
    "    recommendations = findMovieTitles(\\\n",
    "                                    [sorted(predictions, key=lambda x: x[2], reverse=True)[i].product for i in range(10)],\\\n",
    "                                    movies)\n",
    "    \n",
    "    print (\"Movies recommended for user:\", userid)\n",
    "    for each in recommendations:\n",
    "        print(each)\n",
    "    \n",
    "    return predictions"
   ]
  },
  {
   "cell_type": "code",
   "execution_count": 44,
   "metadata": {
    "collapsed": false
   },
   "outputs": [],
   "source": [
    "movies = sc.textFile('../data/ml-10M100K/movies.dat')\\\n",
    "                    .map(lambda x: x.split('::'))\\\n",
    "                    .map(lambda x: [int(x[0]), str(x[1]), str(x[2])])\n",
    "train = sc.textFile('../data/sorted_ratings/train.txt')\\\n",
    "                    .map(lambda x:x.strip('[').strip(']').split(','))\\\n",
    "                    .map(lambda x: parseRatings(x))\n",
    "validation = sc.textFile('../data/sorted_ratings/validation.txt')\\\n",
    "                    .map(lambda x:x.strip('[').strip(']').split(','))\\\n",
    "                    .map(lambda x: parseRatings(x))\n",
    "test = sc.textFile('../data/sorted_ratings/test.txt')\\\n",
    "                    .map(lambda x:x.strip('[').strip(']').split(','))\\\n",
    "                    .map(lambda x: parseRatings(x))"
   ]
  },
  {
   "cell_type": "code",
   "execution_count": 33,
   "metadata": {
    "collapsed": false
   },
   "outputs": [
    {
     "name": "stdout",
     "output_type": "stream",
     "text": [
      "model trained with lambda =  0.01 rank =  8 has the rmse =  0.277256291228\n",
      "model trained with lambda =  0.1 rank =  8 has the rmse =  0.266630315546\n",
      "model trained with lambda =  1.0 rank =  8 has the rmse =  0.426217324786\n",
      "model trained with lambda =  10.0 rank =  8 has the rmse =  1.24796163803\n",
      "model trained with lambda =  0.01 rank =  12 has the rmse =  0.281615683625\n",
      "model trained with lambda =  0.1 rank =  12 has the rmse =  0.266209477209\n",
      "model trained with lambda =  1.0 rank =  12 has the rmse =  0.426216209265\n",
      "model trained with lambda =  10.0 rank =  12 has the rmse =  1.24796163803\n",
      "model trained with lambda =  0.01 rank =  16 has the rmse =  0.285915329906\n",
      "model trained with lambda =  0.1 rank =  16 has the rmse =  0.266482002457\n",
      "model trained with lambda =  1.0 rank =  16 has the rmse =  0.42621612179\n",
      "model trained with lambda =  10.0 rank =  16 has the rmse =  1.24796163803\n"
     ]
    }
   ],
   "source": [
    "ranks = [8, 12, 16]\n",
    "lambdas = [0.01, 0.1, 1.0, 10.0]\n",
    "iteration = 10\n",
    "bestModel, bestRmse = findBestModel(train, validation, ranks, lambdas, iteration)"
   ]
  },
  {
   "cell_type": "code",
   "execution_count": 64,
   "metadata": {
    "collapsed": false
   },
   "outputs": [
    {
     "name": "stdout",
     "output_type": "stream",
     "text": [
      "the RMSE for best trained model on test set is 0.148921422515\n"
     ]
    }
   ],
   "source": [
    "testRmse = evaluateOnTest(bestModel, test)"
   ]
  },
  {
   "cell_type": "code",
   "execution_count": 139,
   "metadata": {
    "collapsed": false
   },
   "outputs": [
    {
     "name": "stdout",
     "output_type": "stream",
     "text": [
      "Movies recommended for user: 36955\n",
      "['Shawshank Redemption, The (1994)']\n",
      "[\"Schindler's List (1993)\"]\n",
      "['Usual Suspects, The (1995)']\n",
      "['Lord of the Rings: The Return of the King, The (2003)']\n",
      "['House with Laughing Windows, The (La Casa dalle Finestre che Ridono) (1976)']\n",
      "['Silence of the Lambs, The (1991)']\n",
      "['Godfather, The (1972)']\n",
      "['Gloomy Sunday (Ein Lied von Liebe und Tod) (1999)']\n",
      "['Wallace & Gromit: The Wrong Trousers (1993)']\n",
      "['Wallace & Gromit: The Best of Aardman Animation (1996)']\n"
     ]
    }
   ],
   "source": [
    "movieList = train.map(lambda x: x[1]).distinct()\n",
    "user_data = train.filter(lambda x: x[0] == 36955).map(lambda x: (x[0], x[1]))\n",
    "prediction = recommendation_engine(bestModel, user_data, movieList)"
   ]
  },
  {
   "cell_type": "code",
   "execution_count": 157,
   "metadata": {
    "collapsed": false
   },
   "outputs": [],
   "source": [
    "rank_8 = np.asarray([[0.01, 0.277256291228],\\\n",
    "          [0.1, 0.266630315546],\\\n",
    "          [1.0, 0.426217324786],\\\n",
    "          [10.0, 1.24796163803]\n",
    "         ])\n",
    "rank_12 = np.asarray([[0.01, 0.281615683625],\\\n",
    "          [0.1, 0.266209477209],\\\n",
    "          [1.0, 0.426216209265],\\\n",
    "          [10.0, 1.24796163803]\n",
    "         ])\n",
    "rank_16 = np.asarray([[0.01, 0.285915329906],\\\n",
    "          [0.1, 0.266482002457],\\\n",
    "          [1.0, 0.42621612179],\\\n",
    "          [10.0, 1.24796163803]\n",
    "         ])\n"
   ]
  },
  {
   "cell_type": "code",
   "execution_count": 169,
   "metadata": {
    "collapsed": false
   },
   "outputs": [
    {
     "data": {
      "text/plain": [
       "[<matplotlib.lines.Line2D at 0x124f23cc0>]"
      ]
     },
     "execution_count": 169,
     "metadata": {},
     "output_type": "execute_result"
    },
    {
     "data": {
      "image/png": "[encoded data removed]",
      "text/plain": [
       "<matplotlib.figure.Figure at 0x124d1aa90>"
      ]
     },
     "metadata": {},
     "output_type": "display_data"
    }
   ],
   "source": [
    "plt.plot(np.log(rank_8[:,0]), rank_8[:,1],color='r')\n",
    "plt.xlabel('Log of Lambda')\n",
    "plt.ylabel('RMSE')\n",
    "plt.plot(np.log(rank_12[:,0]), rank_12[:,1], color='b')\n",
    "plt.plot(np.log(rank_16[:,0]), rank_16[:,1], color='g')"
   ]
  },
  {
   "cell_type": "code",
   "execution_count": null,
   "metadata": {
    "collapsed": false
   },
   "outputs": [],
   "source": []
  },
  {
   "cell_type": "code",
   "execution_count": null,
   "metadata": {
    "collapsed": true
   },
   "outputs": [],
   "source": []
  }
 ],
 "metadata": {
  "kernelspec": {
   "display_name": "Python 3",
   "language": "python",
   "name": "python3"
  },
  "language_info": {
   "codemirror_mode": {
    "name": "ipython",
    "version": 3
   },
   "file_extension": ".py",
   "mimetype": "text/x-python",
   "name": "python",
   "nbconvert_exporter": "python",
   "pygments_lexer": "ipython3",
   "version": "3.5.1"
  }
 },
 "nbformat": 4,
 "nbformat_minor": 0
}
