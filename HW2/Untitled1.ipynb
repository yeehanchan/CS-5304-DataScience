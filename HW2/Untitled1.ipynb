{
 "metadata": {
  "name": "",
  "signature": "sha256:c5ead9b2169e83985cec2d6fb4ba7f1d6d546cb4bbb4602d7bd4a71556e19e18"
 },
 "nbformat": 3,
 "nbformat_minor": 0,
 "worksheets": [
  {
   "cells": [
    {
     "cell_type": "code",
     "collapsed": false,
     "input": [
      "from pyspark import SparkConf, SparkContext\n",
      "from pyspark.sql import SQLContext\n",
      "sqlContext = SQLContext(sc)\n",
      "\n",
      "from pyspark.mllib.recommendation import ALS, Rating\n",
      "\n",
      "import itertools, gc, math\n",
      "\n",
      "from pyechonest import config, song\n",
      "config.ECHO_NEST_API_KEY=\"secret\""
     ],
     "language": "python",
     "metadata": {},
     "outputs": [],
     "prompt_number": 5
    },
    {
     "cell_type": "code",
     "collapsed": false,
     "input": [
      "def userStrToIntMap(data):\n",
      "    user = data.map(lambda x:x[0]).distinct().zipWithUniqueId()\n",
      "    return user\n",
      "\n",
      "def songStrToIntMap(data):\n",
      "    songs = data.map(lambda x:x[1]).distinct().zipWithUniqueId()\n",
      "    return songs\n",
      "\n",
      "def converUserAndSongToInt(data, user, songs):\n",
      "    data = data.map(lambda x: (x[0], (x[1], x[2]))).join(user)   # (user, ((songs, listenCnt), userInt))\n",
      "    data = data.map(lambda x: (x[1][1], x[1][0][0], x[1][0][1]))\n",
      "    data = data.map(lambda x: (x[1], (x[0], x[2]))).join(songs)\n",
      "    data = data.map(lambda x: (x[1][0][0], x[1][1], int(x[1][0][1])))\n",
      "    return data\n",
      "\n",
      "def userReverseMap(user):\n",
      "    userReverse = user.map(lambda x: (x[1], x[0]))\n",
      "    return userReverse\n",
      "\n",
      "def songReverseMap(songs):\n",
      "    songReverse = songs.map(lambda x: (x[1], x[0]))\n",
      "    return songReverse\n",
      "\n",
      "def songStrToName(songStr):\n",
      "    try:\n",
      "        return song.Song(songStr)\n",
      "    except IndexError:    # Echo nest API error sometimes happens\n",
      "        return\n",
      "\n",
      "def songIdToStr(songId):\n",
      "    try:\n",
      "        songStr = songReverse.filter(lambda x: x[0] == songId).collect()[0][1]\n",
      "        return songStr\n",
      "    except:\n",
      "        return"
     ],
     "language": "python",
     "metadata": {},
     "outputs": [],
     "prompt_number": 6
    },
    {
     "cell_type": "code",
     "collapsed": false,
     "input": [
      "def computeRMSE(model, data):\n",
      "    dataToUserSong = data.map(lambda r: (r[0], r[1]))\n",
      "    predictions = model.predictAll(dataToUserSong).map(lambda r: ((r[0], r[1]), r[2]))\n",
      "    ratesAndPreds = data.map(lambda r: ((r[0], r[1]), r[2])).join(predictions)\n",
      "    RMSE = math.sqrt(ratesAndPreds.map(lambda r: (r[1][0] - r[1][1])**2).mean())\n",
      "    return RMSE\n",
      "\n",
      "def findBestModel(train, validation, ranks, lambdas, alphas, iteration):\n",
      "    bestModel = None\n",
      "    bestRMSE = 10000000\n",
      "    bestRank = None\n",
      "    bestLambda = None\n",
      "    bestAlpha = None\n",
      "    \n",
      "    for rank, lmbda, alpha in itertools.product(ranks, lambdas, alphas):\n",
      "        try:\n",
      "            model = ALS.trainImplicit(train, rank=rank, iterations=iteration, lambda_=lmbda, alpha=alpha)\n",
      "            RMSE = computeRMSE(model, validation)\n",
      "            print rank, lmbda, alpha, RMSE\n",
      "            if RMSE < bestRmse:\n",
      "                bestModel = model\n",
      "                bestRMSE = RMSE\n",
      "                bestRank = rank\n",
      "                bestLambda = lmbda\n",
      "                bestAlpha = alpha\n",
      "        except:\n",
      "            pass\n",
      "        gc.collect()\n",
      "    return bestModel, bestRMSE"
     ],
     "language": "python",
     "metadata": {},
     "outputs": [],
     "prompt_number": 7
    },
    {
     "cell_type": "code",
     "collapsed": false,
     "input": [
      "data = sc.textFile('train_triplets.txt')\n",
      "data = data.map(lambda x: x.strip().split())\n",
      "\n",
      "user = userStrToIntMap(data)\n",
      "songs = songStrToIntMap(data)\n",
      "\n",
      "userReverse = userReverseMap(user)\n",
      "songReverse = songReverseMap(songs)\n",
      "\n",
      "data = converUserAndSongToInt(data, user, songs)\n",
      "train6, validation2,test2 = data.randomSplit([6,2,2])\n",
      "\n",
      "ranks = [5, 10]\n",
      "lambdas = [0.01, 0.1]\n",
      "alphas = [0.01, 0.1]\n",
      "iteration = 10\n",
      "\n",
      "rank=5\n",
      "bestModel, bestRMSE = findBestModel(train6, validation2, ranks, lambdas, alphas, iteration)\n",
      "\n",
      "model = ALS.trainImplicit(train6, rank, iteration, lambda_=0.1, alpha=0.1)\n",
      "valRMSE = computeRMSE(model, validation2)\n",
      "testRMSE = computeRMSE(model, test2)"
     ],
     "language": "python",
     "metadata": {},
     "outputs": [],
     "prompt_number": 8
    },
    {
     "cell_type": "code",
     "collapsed": false,
     "input": [
      "def recommendSongs(userId, numRec):\n",
      "    listenedSongs = data.filter(lambda x:x[0] == userId).map(lambda x: x[1]).collect()[:10]\n",
      "    listenedSongs = map(songIdToStr, listenedSongs)\n",
      "    listenedSongs = map(songStrToName, listenedSongs)\n",
      "    listenedSongs = [l for l in listenedSongs if l is not None]\n",
      "    print 'listened songs: ', listenedSongs\n",
      "    results = []\n",
      "    res = model.recommendProducts(userId, numRec)\n",
      "    for r in res:\n",
      "        songId = r.product\n",
      "        songStr = songIdToStr(songId)\n",
      "        try:\n",
      "            songName = songStrToName(songStr)\n",
      "            if songName is not None:\n",
      "                results.append(songName)\n",
      "        except IndexError:\n",
      "            pass\n",
      "    return results"
     ],
     "language": "python",
     "metadata": {},
     "outputs": [],
     "prompt_number": 25
    },
    {
     "cell_type": "code",
     "collapsed": false,
     "input": [
      "for u in user.take(3):\n",
      "    userStr, userId = u[0], u[1]\n",
      "    print 'user ID: ', userStr\n",
      "    res = recommendSongs(userId, 10)\n",
      "    print 'recommendations: ', res\n",
      "    print \n"
     ],
     "language": "python",
     "metadata": {},
     "outputs": [
      {
       "output_type": "stream",
       "stream": "stdout",
       "text": [
        "user ID:  0cb67666df99f4dad47def9a7acc2c5bb350a31f\n",
        "listened songs: "
       ]
      },
      {
       "output_type": "stream",
       "stream": "stdout",
       "text": [
        " [<song - Beatrix (BBC Session - John Peel, 5th September 1984)>, <song - Five Years>, <song - Black Hole>, <song - Riot Squad (Previously Unreleased)>, <song - Two Drummers Disappear>, <song - New York City>, <song - Made Concrete>]\n",
        "recommendations: "
       ]
      },
      {
       "output_type": "stream",
       "stream": "stdout",
       "text": [
        " [<song - Canada>, <song - Who Can Compare>, <song - A Beggar On A Beach Of Gold>, <song - They Might Follow You>, <song - Help I'm Alive>, <song - MIA>]\n",
        "\n",
        "user ID:  cfb91e0f4bafadc50d12a5b6eb110e4c2f9372c4\n",
        "listened songs: "
       ]
      },
      {
       "output_type": "stream",
       "stream": "stdout",
       "text": [
        " [<song - Dragon Queen>, <song - Runaway>, <song - Parting Of The Sensory>, <song - The Sweets>, <song - Warrior>, <song - Gold Lion>, <song - Shame And Fortune>, <song - Dull Life>, <song - Mysteries>]\n",
        "recommendations: "
       ]
      },
      {
       "output_type": "stream",
       "stream": "stdout",
       "text": [
        " [<song - Canada>, <song - They Might Follow You>, <song - Who Can Compare>, <song - A Beggar On A Beach Of Gold>, <song - Help I'm Alive>, <song - MIA>, <song - Songs Of The Season>]\n",
        "\n",
        "user ID:  b284a305c8a0f3a6fbeed717473fea6a44ef4239\n",
        "listened songs: "
       ]
      },
      {
       "output_type": "stream",
       "stream": "stdout",
       "text": [
        " [<song - La drogue te donne des ailes>, <song - Outta Sight>, <song - Shine Shine (Apparat Remix)>, <song - Strangers In The Wind>, <song - Itin\u00e9raire d'un ch\u00f4meur>, <song - Shoulder to shoulder 2009>, <song - Ils appellent \u00e7a>]\n",
        "recommendations: "
       ]
      },
      {
       "output_type": "stream",
       "stream": "stdout",
       "text": [
        " [<song - Undo (Live - Vespertine World Tour 2001)>, <song - Revelry>, <song - Horn Concerto No. 4 in E Flat, K.495: II. Romance (Andante cantabile)>, <song - Repr\u00e9sente>, <song - Invalid>, <song - The Gift>, <song - Tive Sim>, <song - Canada>]\n",
        "\n"
       ]
      }
     ],
     "prompt_number": 26
    },
    {
     "cell_type": "code",
     "collapsed": false,
     "input": [],
     "language": "python",
     "metadata": {},
     "outputs": []
    }
   ],
   "metadata": {}
  }
 ]
}