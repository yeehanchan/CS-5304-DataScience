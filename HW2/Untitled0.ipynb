{
 "cells": [
  {
   "cell_type": "code",
   "execution_count": 1,
   "metadata": {
    "collapsed": false
   },
   "outputs": [],
   "source": [
    "from pyspark import SparkConf, SparkContext\n",
    "from pyspark.sql import SQLContext\n",
    "sqlContext = SQLContext(sc)\n",
    "\n",
    "from pyspark.mllib.recommendation import ALS, Rating\n",
    "\n",
    "import itertools, gc, math\n",
    "\n",
    "from pyechonest import config, song\n",
    "config.ECHO_NEST_API_KEY=\"secret\""
   ]
  },
  {
   "cell_type": "code",
   "execution_count": 2,
   "metadata": {
    "collapsed": false
   },
   "outputs": [],
   "source": [
    "def userStrToIntMap(data):\n",
    "    user = data.map(lambda x:x[0]).distinct().zipWithUniqueId()\n",
    "    return user\n",
    "\n",
    "def songStrToIntMap(data):\n",
    "    songs = data.map(lambda x:x[1]).distinct().zipWithUniqueId()\n",
    "    return songs\n",
    "\n",
    "def converUserAndSongToInt(data, user, songs):\n",
    "    data = data.map(lambda x: (x[0], (x[1], x[2]))).join(user)   # (user, ((songs, listenCnt), userInt))\n",
    "    data = data.map(lambda x: (x[1][1], x[1][0][0], x[1][0][1]))\n",
    "    data = data.map(lambda x: (x[1], (x[0], x[2]))).join(songs)\n",
    "    data = data.map(lambda x: (x[1][0][0], x[1][1], int(x[1][0][1])))\n",
    "    return data\n",
    "\n",
    "def userReverseMap(user):\n",
    "    userReverse = user.map(lambda x: (x[1], x[0]))\n",
    "    return userReverse\n",
    "\n",
    "def songReverseMap(songs):\n",
    "    songReverse = songs.map(lambda x: (x[1], x[0]))\n",
    "    return songReverse\n",
    "\n",
    "def songStrToName(songStr):\n",
    "    try:\n",
    "        return song.Song(songStr)\n",
    "    except IndexError:    # Echo nest API error sometimes happens\n",
    "        return\n",
    "\n",
    "def songIdToStr(songId):\n",
    "    try:\n",
    "        songStr = songReverse.filter(lambda x: x[0] == songId).collect()[0][1]\n",
    "        return songStr\n",
    "    except:\n",
    "        return"
   ]
  },
  {
   "cell_type": "code",
   "execution_count": 3,
   "metadata": {
    "collapsed": false
   },
   "outputs": [],
   "source": [
    "def computeRMSE(model, data):\n",
    "    dataToUserSong = data.map(lambda r: (r[0], r[1]))\n",
    "    predictions = model.predictAll(dataToUserSong).map(lambda r: ((r[0], r[1]), r[2]))\n",
    "    ratesAndPreds = data.map(lambda r: ((r[0], r[1]), r[2])).join(predictions)\n",
    "    RMSE = math.sqrt(ratesAndPreds.map(lambda r: (r[1][0] - r[1][1])**2).mean())\n",
    "    return RMSE\n",
    "\n",
    "def findBestModel(train, validation, ranks, lambdas, alphas, iteration):\n",
    "    bestModel = None\n",
    "    bestRMSE = 10000000\n",
    "    bestRank = None\n",
    "    bestLambda = None\n",
    "    bestAlpha = None\n",
    "    \n",
    "    for rank, lmbda, alpha in itertools.product(ranks, lambdas, alphas):\n",
    "        try:\n",
    "            model = ALS.trainImplicit(train, rank=rank, iterations=iteration, lambda_=lmbda, alpha=alpha)\n",
    "            RMSE = computeRMSE(model, validation)\n",
    "            print rank, lmbda, alpha, RMSE\n",
    "            if RMSE < bestRmse:\n",
    "                bestModel = model\n",
    "                bestRMSE = RMSE\n",
    "                bestRank = rank\n",
    "                bestLambda = lmbda\n",
    "                bestAlpha = alpha\n",
    "        except:\n",
    "            pass\n",
    "        gc.collect()\n",
    "    return bestModel, bestRMSE"
   ]
  },
  {
   "cell_type": "code",
   "execution_count": null,
   "metadata": {
    "collapsed": false
   },
   "outputs": [],
   "source": [
    "data = sc.textFile('train_triplets.txt')\n",
    "data = data.map(lambda x: x.strip().split())\n",
    "\n",
    "user = userStrToIntMap(data)\n",
    "songs = songStrToIntMap(data)\n",
    "\n",
    "userReverse = userReverseMap(user)\n",
    "songReverse = songReverseMap(songs)\n",
    "\n",
    "data = converUserAndSongToInt(data, user, songs)\n",
    "train6, validation2,test2 = data.randomSplit([6,2,2])\n",
    "\n",
    "ranks = [5, 10]\n",
    "lambdas = [0.01, 0.1]\n",
    "alphas = [0.01, 0.1]\n",
    "iteration = 5\n",
    "\n",
    "rank=10\n",
    "#bestModel, bestRMSE = findBestModel(train6, validation2, ranks, lambdas, alphas, iteration)\n",
    "model = ALS.trainImplicit(train6, rank, iteration, alpha=0.1)\n",
    "#RMSE = computeRMSE(model, validation2)"
   ]
  },
  {
   "cell_type": "code",
   "execution_count": 34,
   "metadata": {
    "collapsed": false
   },
   "outputs": [
    {
     "name": "stdout",
     "output_type": "stream",
     "text": [
      "7.56231115875\n"
     ]
    }
   ],
   "source": [
    "RMSE = computeRMSE(model, test2)\n",
    "print RMSE"
   ]
  },
  {
   "cell_type": "code",
   "execution_count": 26,
   "metadata": {
    "collapsed": false
   },
   "outputs": [],
   "source": [
    "def recommendSongs(userId, numRec):\n",
    "    listenedSongs = data.filter(lambda x:x[0] == userId).map(lambda x: x[0]).collect()[:20]\n",
    "    print listenedSongs\n",
    "    listenedSongs = map(songStrToName, listenedSongs)\n",
    "    print listenedSongs\n",
    "    results = []\n",
    "    res = model.recommendProducts(userId, numRec)\n",
    "    for r in res:\n",
    "        songId = r.product\n",
    "        songStr = songIdToStr(songId)\n",
    "        print songId, songStr\n",
    "        try:\n",
    "            songName = songStrToName(songStr)\n",
    "            results.append(songName)\n",
    "        except IndexError:\n",
    "            pass\n",
    "    return results"
   ]
  },
  {
   "cell_type": "code",
   "execution_count": 27,
   "metadata": {
    "collapsed": false
   },
   "outputs": [
    {
     "name": "stdout",
     "output_type": "stream",
     "text": [
      "[0, 0, 0, 0, 0, 0, 0, 0, 0, 0, 0, 0, 0, 0, 0, 0, 0, 0, 0, 0]\n"
     ]
    },
    {
     "ename": "AttributeError",
     "evalue": "'PipelinedRDD' object has no attribute 'Song'",
     "output_type": "error",
     "traceback": [
      "\u001b[1;31m---------------------------------------------------------------------------\u001b[0m",
      "\u001b[1;31mAttributeError\u001b[0m                            Traceback (most recent call last)",
      "\u001b[1;32m<ipython-input-27-37b73aa1f136>\u001b[0m in \u001b[0;36m<module>\u001b[1;34m()\u001b[0m\n\u001b[0;32m      1\u001b[0m \u001b[1;32mfor\u001b[0m \u001b[0mu\u001b[0m \u001b[1;32min\u001b[0m \u001b[0muser\u001b[0m\u001b[1;33m.\u001b[0m\u001b[0mtake\u001b[0m\u001b[1;33m(\u001b[0m\u001b[1;36m1\u001b[0m\u001b[1;33m)\u001b[0m\u001b[1;33m:\u001b[0m\u001b[1;33m\u001b[0m\u001b[0m\n\u001b[0;32m      2\u001b[0m     \u001b[0muserStr\u001b[0m\u001b[1;33m,\u001b[0m \u001b[0muserId\u001b[0m \u001b[1;33m=\u001b[0m \u001b[0mu\u001b[0m\u001b[1;33m[\u001b[0m\u001b[1;36m0\u001b[0m\u001b[1;33m]\u001b[0m\u001b[1;33m,\u001b[0m \u001b[0mu\u001b[0m\u001b[1;33m[\u001b[0m\u001b[1;36m1\u001b[0m\u001b[1;33m]\u001b[0m\u001b[1;33m\u001b[0m\u001b[0m\n\u001b[1;32m----> 3\u001b[1;33m     \u001b[0mres\u001b[0m \u001b[1;33m=\u001b[0m \u001b[0mrecommendSongs\u001b[0m\u001b[1;33m(\u001b[0m\u001b[0muserId\u001b[0m\u001b[1;33m,\u001b[0m \u001b[1;36m10\u001b[0m\u001b[1;33m)\u001b[0m\u001b[1;33m\u001b[0m\u001b[0m\n\u001b[0m\u001b[0;32m      4\u001b[0m     \u001b[1;32mprint\u001b[0m \u001b[1;34m'res'\u001b[0m\u001b[1;33m,\u001b[0m \u001b[0mres\u001b[0m\u001b[1;33m\u001b[0m\u001b[0m\n",
      "\u001b[1;32m<ipython-input-26-839fd354506f>\u001b[0m in \u001b[0;36mrecommendSongs\u001b[1;34m(userId, numRec)\u001b[0m\n\u001b[0;32m      2\u001b[0m     \u001b[0mlistenedSongs\u001b[0m \u001b[1;33m=\u001b[0m \u001b[0mdata\u001b[0m\u001b[1;33m.\u001b[0m\u001b[0mfilter\u001b[0m\u001b[1;33m(\u001b[0m\u001b[1;32mlambda\u001b[0m \u001b[0mx\u001b[0m\u001b[1;33m:\u001b[0m\u001b[0mx\u001b[0m\u001b[1;33m[\u001b[0m\u001b[1;36m0\u001b[0m\u001b[1;33m]\u001b[0m \u001b[1;33m==\u001b[0m \u001b[0muserId\u001b[0m\u001b[1;33m)\u001b[0m\u001b[1;33m.\u001b[0m\u001b[0mmap\u001b[0m\u001b[1;33m(\u001b[0m\u001b[1;32mlambda\u001b[0m \u001b[0mx\u001b[0m\u001b[1;33m:\u001b[0m \u001b[0mx\u001b[0m\u001b[1;33m[\u001b[0m\u001b[1;36m0\u001b[0m\u001b[1;33m]\u001b[0m\u001b[1;33m)\u001b[0m\u001b[1;33m.\u001b[0m\u001b[0mcollect\u001b[0m\u001b[1;33m(\u001b[0m\u001b[1;33m)\u001b[0m\u001b[1;33m[\u001b[0m\u001b[1;33m:\u001b[0m\u001b[1;36m20\u001b[0m\u001b[1;33m]\u001b[0m\u001b[1;33m\u001b[0m\u001b[0m\n\u001b[0;32m      3\u001b[0m     \u001b[1;32mprint\u001b[0m \u001b[0mlistenedSongs\u001b[0m\u001b[1;33m\u001b[0m\u001b[0m\n\u001b[1;32m----> 4\u001b[1;33m     \u001b[0mlistenedSongs\u001b[0m \u001b[1;33m=\u001b[0m \u001b[0mmap\u001b[0m\u001b[1;33m(\u001b[0m\u001b[0msongStrToName\u001b[0m\u001b[1;33m,\u001b[0m \u001b[0mlistenedSongs\u001b[0m\u001b[1;33m)\u001b[0m\u001b[1;33m\u001b[0m\u001b[0m\n\u001b[0m\u001b[0;32m      5\u001b[0m     \u001b[1;32mprint\u001b[0m \u001b[0mlistenedSongs\u001b[0m\u001b[1;33m\u001b[0m\u001b[0m\n\u001b[0;32m      6\u001b[0m     \u001b[0mresults\u001b[0m \u001b[1;33m=\u001b[0m \u001b[1;33m[\u001b[0m\u001b[1;33m]\u001b[0m\u001b[1;33m\u001b[0m\u001b[0m\n",
      "\u001b[1;32m<ipython-input-4-6c1d1e06616a>\u001b[0m in \u001b[0;36msongStrToName\u001b[1;34m(songStr)\u001b[0m\n\u001b[0;32m     24\u001b[0m \u001b[1;32mdef\u001b[0m \u001b[0msongStrToName\u001b[0m\u001b[1;33m(\u001b[0m\u001b[0msongStr\u001b[0m\u001b[1;33m)\u001b[0m\u001b[1;33m:\u001b[0m\u001b[1;33m\u001b[0m\u001b[0m\n\u001b[0;32m     25\u001b[0m     \u001b[1;32mtry\u001b[0m\u001b[1;33m:\u001b[0m\u001b[1;33m\u001b[0m\u001b[0m\n\u001b[1;32m---> 26\u001b[1;33m         \u001b[1;32mreturn\u001b[0m \u001b[0msong\u001b[0m\u001b[1;33m.\u001b[0m\u001b[0mSong\u001b[0m\u001b[1;33m(\u001b[0m\u001b[0msongStr\u001b[0m\u001b[1;33m)\u001b[0m\u001b[1;33m\u001b[0m\u001b[0m\n\u001b[0m\u001b[0;32m     27\u001b[0m     \u001b[1;32mexcept\u001b[0m \u001b[0mIndexError\u001b[0m\u001b[1;33m:\u001b[0m    \u001b[1;31m# Echo nest API error sometimes happens\u001b[0m\u001b[1;33m\u001b[0m\u001b[0m\n\u001b[0;32m     28\u001b[0m         \u001b[1;32mreturn\u001b[0m\u001b[1;33m\u001b[0m\u001b[0m\n",
      "\u001b[1;31mAttributeError\u001b[0m: 'PipelinedRDD' object has no attribute 'Song'"
     ]
    }
   ],
   "source": [
    "for u in user.take(1):\n",
    "    userStr, userId = u[0], u[1]\n",
    "    res = recommendSongs(userId, 10)\n",
    "    print 'res', res"
   ]
  },
  {
   "cell_type": "code",
   "execution_count": null,
   "metadata": {
    "collapsed": false
   },
   "outputs": [],
   "source": []
  }
 ],
 "metadata": {
  "kernelspec": {
   "display_name": "Python 2",
   "language": "python",
   "name": "python2"
  },
  "language_info": {
   "codemirror_mode": {
    "name": "ipython",
    "version": 2
   },
   "file_extension": ".py",
   "mimetype": "text/x-python",
   "name": "python",
   "nbconvert_exporter": "python",
   "pygments_lexer": "ipython2",
   "version": "2.7.9"
  }
 },
 "nbformat": 4,
 "nbformat_minor": 0
}
