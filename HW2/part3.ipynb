{
 "cells": [
  {
   "cell_type": "code",
   "execution_count": 3,
   "metadata": {
    "collapsed": false
   },
   "outputs": [
    {
     "name": "stdout",
     "output_type": "stream",
     "text": [
      "Populating the interactive namespace from numpy and matplotlib\n"
     ]
    }
   ],
   "source": [
    "%pylab inline\n",
    "import rlcompleter, readline\n",
    "readline.parse_and_bind('tab: complete')\n",
    "import findspark\n",
    "import os\n",
    "findspark.init()\n",
    "from pyspark import SparkConf, SparkContext\n",
    "from pyspark.sql import SQLContext\n",
    "sqlContext = SQLContext(sc)\n",
    "\n",
    "from pyspark.mllib.recommendation import ALS, Rating\n",
    "import matplotlib.pyplot as plt\n",
    "from pyspark.sql.functions import UserDefinedFunction\n",
    "from pyspark.sql.types import IntegerType"
   ]
  },
  {
   "cell_type": "code",
   "execution_count": 6,
   "metadata": {
    "collapsed": false
   },
   "outputs": [],
   "source": [
    "data = sc.textFile('sample.txt', 10000)\n",
    "data = data.map(lambda x: x.strip().split())"
   ]
  },
  {
   "cell_type": "code",
   "execution_count": 7,
   "metadata": {
    "collapsed": false
   },
   "outputs": [],
   "source": [
    "user = data.map(lambda x:x[0]).distinct().zipWithUniqueId()\n",
    "song = data.map(lambda x:x[1]).distinct().zipWithUniqueId()\n",
    "# user = user.flatMap(lambda x: x.items())\n",
    "# # song = song.flatMap(lambda x: x.items())"
   ]
  },
  {
   "cell_type": "code",
   "execution_count": 8,
   "metadata": {
    "collapsed": false
   },
   "outputs": [],
   "source": [
    "newData = data.map(lambda x: (x[0], (x[1], x[2]))).join(user)\n",
    "newData = newData.map(lambda x: (x[1][1], x[1][0][0], x[1][0][1]))\n",
    "newData = newData.map(lambda x: (x[1], (x[0], x[2]))).join(song)\n",
    "newData = newData.map(lambda x: (x[1][0][0], x[1][1], int(x[1][0][1])))"
   ]
  },
  {
   "cell_type": "code",
   "execution_count": null,
   "metadata": {
    "collapsed": true
   },
   "outputs": [],
   "source": [
    "newData.take(10)"
   ]
  },
  {
   "cell_type": "code",
   "execution_count": 15,
   "metadata": {
    "collapsed": false
   },
   "outputs": [],
   "source": [
    "udf_user = UserDefinedFunction(lambda x: user[x], IntegerType())\n",
    "\n",
    "udf_song = UserDefinedFunction(lambda x: song[x], IntegerType())\n",
    "new_df = df.withColumn('User', udf_user(df.User))\n",
    "new_df = new_df.withColumn('Song', udf_song(new_df.Song))\n",
    "new_df = new_df.withColumn('ListenCnt', new_df.ListenCnt.cast('int'))\n",
    "\n",
    "new_df = new_df.rdd\n",
    "\n",
    "# train6, validation2,test2 = newData.randomSplit([6,2,2])\n",
    "# model = ALS.train(train6, rank = 10, iterations = 5)\n",
    "# predictions = model.predictAll(test2.map(lambda x: (x[0], x[1])))\n",
    "\n",
    "# new_df = df.select(*[udf(column).alias(name) if column == name else column for column in df.columns])\n",
    "\n",
    "#newData = data.map(lambda x: Rating(int(user.lookup(x[0])), int(song.lookup(x[1])), float(x[2])))\n",
    "# df = df.rdd.map(lambda row: Row(**dict(row.asDict(), user=row.User)))\n",
    "# df = df.withColumn(df.select(\"User\"))\n",
    "# new = df\n",
    "\n",
    "#new = new.withColumn('User', sc.parallelize(new.select(\"User\").map(lambda x: user(x[1]))))\n",
    "\n",
    "\n",
    "# new_df = df.withColumn('User', udf(df.User))\n",
    "\n"
   ]
  },
  {
   "cell_type": "code",
   "execution_count": 12,
   "metadata": {
    "collapsed": true
   },
   "outputs": [],
   "source": [
    "train6, validation2,test2 = data.randomSplit([6,2,2])"
   ]
  },
  {
   "cell_type": "code",
   "execution_count": null,
   "metadata": {
    "collapsed": false
   },
   "outputs": [],
   "source": [
    "model = ALS.trainImplicit(train6, rank = 10, iterations = 5)"
   ]
  }
 ],
 "metadata": {
  "kernelspec": {
   "display_name": "Python 2",
   "language": "python",
   "name": "python2"
  },
  "language_info": {
   "codemirror_mode": {
    "name": "ipython",
    "version": 2
   },
   "file_extension": ".py",
   "mimetype": "text/x-python",
   "name": "python",
   "nbconvert_exporter": "python",
   "pygments_lexer": "ipython2",
   "version": "2.7.9"
  }
 },
 "nbformat": 4,
 "nbformat_minor": 0
}
